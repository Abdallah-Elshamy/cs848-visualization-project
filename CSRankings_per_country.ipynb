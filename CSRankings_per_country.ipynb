{
 "cells": [
  {
   "cell_type": "markdown",
   "id": "0202416c",
   "metadata": {},
   "source": [
    "# CS848: The art and science of empirical computer science"
   ]
  },
  {
   "cell_type": "markdown",
   "id": "f264438a",
   "metadata": {},
   "source": [
    "## Assignment: Visualization Project"
   ]
  },
  {
   "cell_type": "markdown",
   "id": "f8fa63fc",
   "metadata": {},
   "source": [
    "**Description:** At a high-level, for this visualization project, I would like you to perform exploratory data analysis on a bibliometric dataset of your choice. From this exploration, I would like you to come up with one or more interesting observations or questions to ask. And then, I would like you to build a visualization that either \"makes the points\" or answers the questions that you posed."
   ]
  },
  {
   "cell_type": "markdown",
   "id": "9fe9c551",
   "metadata": {},
   "source": [
    "### 1. Exploratory data analysis on a bibliometric dataset of your choice:\n"
   ]
  },
  {
   "cell_type": "markdown",
   "id": "638e9b2b",
   "metadata": {},
   "source": [
    "* The data set I chose is [DBLP](https://qlever.cs.uni-freiburg.de/dblp/jzdksf). \n",
    "* [DBLP](https://qlever.cs.uni-freiburg.de/dblp/jzdksf) allows you to run SPARQL queries to get bibliometrics about:\n",
    "   * Papers\n",
    "   * Their authors\n",
    "   * The affiliation of the authors\n",
    "   * Conferences in which those papers are published\n",
    "   * etc."
   ]
  },
  {
   "cell_type": "markdown",
   "id": "e28d1414",
   "metadata": {},
   "source": [
    "### 2. Observations or questions to ask:\n",
    "[CSRankings](https://csrankings.org/) provide **per institution** rankings for different CS fields.\n",
    "We are interested in a similar ranking but **per country**.\n",
    "\n",
    "More specifically, for **a given field** (for example: cloud), **What are the rankings by country?**\n"
   ]
  },
  {
   "cell_type": "markdown",
   "id": "c62b2681",
   "metadata": {},
   "source": [
    "### How to answer this question?"
   ]
  },
  {
   "cell_type": "code",
   "execution_count": null,
   "id": "2187dc7e",
   "metadata": {},
   "outputs": [],
   "source": []
  }
 ],
 "metadata": {
  "kernelspec": {
   "display_name": "Python 3 (ipykernel)",
   "language": "python",
   "name": "python3"
  },
  "language_info": {
   "codemirror_mode": {
    "name": "ipython",
    "version": 3
   },
   "file_extension": ".py",
   "mimetype": "text/x-python",
   "name": "python",
   "nbconvert_exporter": "python",
   "pygments_lexer": "ipython3",
   "version": "3.8.10"
  }
 },
 "nbformat": 4,
 "nbformat_minor": 5
}
