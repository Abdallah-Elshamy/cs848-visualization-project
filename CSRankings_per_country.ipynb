{
 "cells": [
  {
   "cell_type": "markdown",
   "id": "e11650c9",
   "metadata": {},
   "source": [
    "# CS848: The art and science of empirical computer science"
   ]
  },
  {
   "cell_type": "markdown",
   "id": "18672500",
   "metadata": {},
   "source": [
    "## Assignment: Visualization Project"
   ]
  },
  {
   "cell_type": "markdown",
   "id": "55deef56",
   "metadata": {},
   "source": [
    "**Description:** At a high-level, for this visualization project, I would like you to perform **ploratory data analysis on a bibliometric dataset of your choice**. From this exploration, I would like you to come up with one or more interesting **observations or questions to ask**. And then, I would like you to **build a visualization** that either \"makes the points\" or answers the questions that you posed."
   ]
  },
  {
   "cell_type": "markdown",
   "id": "2b03b7db",
   "metadata": {},
   "source": [
    "### 1. Exploratory data analysis on a bibliometric dataset of your choice:\n"
   ]
  },
  {
   "cell_type": "markdown",
   "id": "9f1a6a14",
   "metadata": {},
   "source": [
    "* The data set I chose is [DBLP](https://qlever.cs.uni-freiburg.de/dblp/jzdksf). \n",
    "* [DBLP](https://qlever.cs.uni-freiburg.de/dblp/jzdksf) allows you to run SPARQL queries to get bibliometrics about:\n",
    "   * Papers\n",
    "   * Their authors\n",
    "   * The affiliation of the authors\n",
    "   * Conferences in which those papers are published\n",
    "   * etc."
   ]
  },
  {
   "cell_type": "markdown",
   "id": "77803d95",
   "metadata": {},
   "source": [
    "### 2. Observations or questions to ask:\n",
    "[CSRankings](https://csrankings.org/) provide **per institution** rankings for different CS fields.\n",
    "We are interested in a similar ranking but **per country**.\n",
    "\n",
    "More specifically, for **a given field** (for example: cloud), **What are the rankings by country?**\n"
   ]
  },
  {
   "cell_type": "markdown",
   "id": "1e1a16e1",
   "metadata": {},
   "source": [
    "### How to answer this question?"
   ]
  },
  {
   "cell_type": "markdown",
   "id": "45d24490",
   "metadata": {},
   "source": [
    "[DBLP](https://qlever.cs.uni-freiburg.de/dblp/jzdksf) provides the backend information needed to execute SPARQL queries from any where.\n",
    "\n",
    "The following function can excute a query that takes the parameters:\n",
    "* keywords: a list of keywords that are used to determine the desired field. The titles of the returned papers will contain at least one of those keywords.\n",
    "* conferences: a list of the conferences that we want to consider in our search.\n",
    "* years: (from_year, to_year).\n",
    "\n",
    "This query will return the following information:\n",
    "* paper \n",
    "* title \n",
    "* author \n",
    "* conference \n",
    "* affiliation \n",
    "* year"
   ]
  },
  {
   "cell_type": "code",
   "execution_count": 1,
   "id": "4444c918",
   "metadata": {},
   "outputs": [],
   "source": [
    "from SPARQLWrapper import SPARQLWrapper, JSON\n",
    "import pandas as pd\n",
    "import matplotlib.pyplot as plt\n",
    "from iso3166 import countries\n",
    "import ipywidgets as widgets\n",
    "from IPython.display import clear_output\n",
    "\n",
    "def query(keywords, conferences, years):\n",
    "    sparql = SPARQLWrapper(\"https://qlever.cs.uni-freiburg.de/api/dblp\")\n",
    "    sparql.setReturnFormat(JSON)\n",
    "\n",
    "    sparql.setQuery(f\"\"\"\n",
    "    PREFIX dblp: <https://dblp.org/rdf/schema#>\n",
    "    SELECT ?paper ?title ?author ?conference ?affiliation ?year WHERE {{\n",
    "      ?paper dblp:title ?title .\n",
    "      ?paper dblp:publishedIn ?conference .\n",
    "      ?paper dblp:yearOfPublication ?year .\n",
    "      ?paper dblp:authoredBy ?author .\n",
    "      ?author dblp:affiliation ?affiliation . \n",
    "      FILTER REGEX(?title, \"{'|'.join(keywords)}\") .\n",
    "      FILTER REGEX (?conference , \"{'|'.join(conferences)}\") .\n",
    "      FILTER (?year >= \"{years[0]}\") .\n",
    "      FILTER (?year <= \"{years[1]}\") .\n",
    "    }}\n",
    "    \"\"\"\n",
    "    )\n",
    "    query_res = sparql.queryAndConvert()\n",
    "\n",
    "    cols = query_res['head']['vars']\n",
    "    rows = []\n",
    "    for res in query_res['results']['bindings']:\n",
    "        row = []\n",
    "        for col in cols:\n",
    "            if col in res:\n",
    "                row.append(res[col]['value'])\n",
    "            else:\n",
    "                row.append(\"\")\n",
    "        rows.append(row)\n",
    "    return rows, cols\n"
   ]
  },
  {
   "cell_type": "markdown",
   "id": "d242618e",
   "metadata": {},
   "source": [
    "But, the returned information does not contain the country!\n",
    "\n",
    "We need to find a way to detect it from the affiliation. This function checks if the last part in the affiliation represents a country according to the [iso3166](https://pypi.org/project/iso3166/) standard. If it is not there, the country will be \"Cannot tell\".\n"
   ]
  },
  {
   "cell_type": "code",
   "execution_count": 2,
   "id": "44d70924",
   "metadata": {},
   "outputs": [],
   "source": [
    "def country(aff):\n",
    "    res = \"Cannot tell\"\n",
    "    if \",\" in aff:\n",
    "        # If the country is mentioned in the affiliation,\n",
    "        # it will usually after the last \",\".\n",
    "        candidate = aff.split(\",\")[-1]\n",
    "        # Clean the extracted name\n",
    "        if candidate.startswith(\"The\"):\n",
    "            candidate = candidate.replace(\"The\", \"\")\n",
    "        candidate = candidate.strip()\n",
    "        \n",
    "        if candidate in countries:\n",
    "            res = countries.get(candidate).name\n",
    "\n",
    "    return res"
   ]
  },
  {
   "cell_type": "markdown",
   "id": "d91493cc",
   "metadata": {},
   "source": [
    "We create a Pandas dataframe from the result:"
   ]
  },
  {
   "cell_type": "code",
   "execution_count": 3,
   "id": "0dec382f",
   "metadata": {},
   "outputs": [],
   "source": [
    "def createDataFrame(keywords, conferences, years):\n",
    "    rows , cols = query(keywords, conferences, years)\n",
    "    df = pd.DataFrame(rows, columns=cols)\n",
    "    countries_col =[]\n",
    "    # Extract countries from affiliations\n",
    "    for aff in df[\"affiliation\"]:\n",
    "        countries_col.append(country(aff))\n",
    "    df[\"country\"] = countries_col\n",
    "    \n",
    "    # Calculate the number of authors per paper\n",
    "    authorsPerPaper = df[[\"title\", \"author\"]].drop_duplicates()[\"title\"].value_counts()\n",
    "    \n",
    "    adjustedCount = []\n",
    "    for paper in df[\"title\"]:\n",
    "        adjustedCount.append(1/authorsPerPaper[paper])\n",
    "\n",
    "    df[\"adjustedCount\"] = adjustedCount\n",
    "    \n",
    "    return df"
   ]
  },
  {
   "cell_type": "markdown",
   "id": "8134f44b",
   "metadata": {},
   "source": [
    "### 3. Build a visualization"
   ]
  },
  {
   "cell_type": "markdown",
   "id": "59fcc84f",
   "metadata": {},
   "source": [
    "From this data we generate three visulaizations to answer our question:\n",
    "1. The first one is similar to CSRankings, which is the **adjusted count of papers** published per country.\n",
    "    * the adjusted count according to [CSRankings](https://csrankings.org/faq.html) is:\n",
    "        * **Adjusted counts:** each publication is counted exactly once, with credit adjusted by splitting evenly across all co-authors. This approach makes it impossible to boost rankings simply by adding authors to a paper.\n",
    "2. The second one is the **number of institutions** per country.\n",
    "3. The third one is the **number of authors** per country."
   ]
  },
  {
   "cell_type": "code",
   "execution_count": 4,
   "id": "11762f13",
   "metadata": {
    "scrolled": false
   },
   "outputs": [
    {
     "data": {
      "application/vnd.jupyter.widget-view+json": {
       "model_id": "b1f7dccceada44caa0aa3178e3f19244",
       "version_major": 2,
       "version_minor": 0
      },
      "text/plain": [
       "HBox(children=(Label(value='Conferences:'), VBox(children=(Checkbox(value=True, description='NSDI', indent=Fal…"
      ]
     },
     "metadata": {},
     "output_type": "display_data"
    }
   ],
   "source": [
    "def generatePlots(button):\n",
    "    df = createDataFrame(keywords.value.split(),\n",
    "                         conferencesList(checklist),\n",
    "                         years.label)\n",
    "    \n",
    "    clear_output(wait=True)\n",
    "    showWidgets()\n",
    "        \n",
    "    # First plot: papers per country\n",
    "    papersPerCountry = df[[\"title\", \"author\" ,\"country\", \"adjustedCount\"]].drop_duplicates()\\\n",
    "        .groupby(\"country\").sum(\"adjustedCount\").sort_values(\"adjustedCount\", ascending=False)\n",
    "    papersPerCountry.plot.bar(title=\"Papers per country\")\n",
    "    plt.show()\n",
    "    print(papersPerCountry)\n",
    "    \n",
    "    # Second plot: Institutions per country\n",
    "    institutionsPerCountry = df[[\"affiliation\", \"country\"]].drop_duplicates()[\"country\"].value_counts()\n",
    "    institutionsPerCountry.plot.bar(title=\"Institutions per country\")\n",
    "    plt.show()\n",
    "    print(institutionsPerCountry)\n",
    "    \n",
    "    # Third plot: Authors per country\n",
    "    authorsPerCountry = df[[\"author\", \"country\"]].drop_duplicates()[\"country\"].value_counts()\n",
    "    authorsPerCountry.plot.bar(title=\"Authors per country\")\n",
    "    plt.show()\n",
    "    print(authorsPerCountry)\n",
    "\n",
    "\n",
    "def conferencesList(checklist):\n",
    "    conferences = []\n",
    "    for item in checklist:\n",
    "        if item.value:\n",
    "            conferences.append(item.description)\n",
    "    return conferences\n",
    "\n",
    "\n",
    "def showWidgets():    \n",
    "    col = widgets.VBox([widgets.Label(\"Keywords:\"), keywords,\n",
    "                        widgets.Label(\"Years:\"), years, generateButton])\n",
    "    \n",
    "    display(widgets.HBox([widgets.Label(\"Conferences:\"), conferencesChecklist, col]))\n",
    "\n",
    "\n",
    "\n",
    "conferenceOptions = [\"NSDI\",\"OSDI\",\"ASPLOS\",\"SIGCOMM\",\"SOSP\",\"EuroSys\",\"FAST\", \"HPDC\", \"SIGMOD\", \"VLDB\", \"ATC\"]\n",
    "checklist = []\n",
    "for conference in conferenceOptions:\n",
    "        checklist.append(widgets.Checkbox(value=True, description=conference, indent=False))\n",
    "conferencesChecklist = widgets.VBox(checklist, description=\"Conferences\")\n",
    "\n",
    "keywords = widgets.Textarea(placeholder='Enter the keywords that you are looking for')\n",
    "years = widgets.SelectionRangeSlider(\n",
    "            options = [i for i in range(1970,2023)],\n",
    "            index=(0, 2022 - 1970),\n",
    "            disabled=False)\n",
    "generateButton = widgets.Button(description='Generate plots')\n",
    "generateButton.on_click(generatePlots)\n",
    "\n",
    "\n",
    "showWidgets()"
   ]
  }
 ],
 "metadata": {
  "kernelspec": {
   "display_name": "Python 3 (ipykernel)",
   "language": "python",
   "name": "python3"
  },
  "language_info": {
   "codemirror_mode": {
    "name": "ipython",
    "version": 3
   },
   "file_extension": ".py",
   "mimetype": "text/x-python",
   "name": "python",
   "nbconvert_exporter": "python",
   "pygments_lexer": "ipython3",
   "version": "3.8.10"
  }
 },
 "nbformat": 4,
 "nbformat_minor": 5
}
